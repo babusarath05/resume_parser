{
 "cells": [
  {
   "cell_type": "code",
   "execution_count": null,
   "metadata": {},
   "outputs": [],
   "source": [
    "#!pip install pdfminer"
   ]
  },
  {
   "cell_type": "code",
   "execution_count": 1,
   "metadata": {},
   "outputs": [
    {
     "data": {
      "text/plain": [
       "'C:\\\\Users\\\\sarathbabu.karunanit\\\\Downloads\\\\Resume'"
      ]
     },
     "execution_count": 1,
     "metadata": {},
     "output_type": "execute_result"
    }
   ],
   "source": [
    "pwd()"
   ]
  },
  {
   "cell_type": "code",
   "execution_count": 2,
   "metadata": {},
   "outputs": [],
   "source": [
    "from pdfminer.pdfinterp import PDFResourceManager, PDFPageInterpreter\n",
    "from pdfminer.converter import TextConverter\n",
    "from pdfminer.layout import LAParams\n",
    "from pdfminer.pdfpage import PDFPage\n",
    "from io import StringIO\n",
    "\n",
    "def convert_pdf_to_txt(path):\n",
    "    rsrcmgr = PDFResourceManager()\n",
    "    retstr = StringIO()\n",
    "    codec = 'utf-8'\n",
    "    laparams = LAParams()\n",
    "    device = TextConverter(rsrcmgr, retstr, laparams=laparams)\n",
    "    fp = open(path, 'rb')\n",
    "    interpreter = PDFPageInterpreter(rsrcmgr, device)\n",
    "    password = \"\"\n",
    "    maxpages = 0\n",
    "    caching = True\n",
    "    pagenos=set()\n",
    "\n",
    "    for page in PDFPage.get_pages(fp, pagenos, maxpages=maxpages, password=password,caching=caching, check_extractable=True):\n",
    "        interpreter.process_page(page)\n",
    "\n",
    "    text = retstr.getvalue()\n",
    "\n",
    "    fp.close()\n",
    "    device.close()\n",
    "    retstr.close()\n",
    "    return text"
   ]
  },
  {
   "cell_type": "code",
   "execution_count": 3,
   "metadata": {},
   "outputs": [
    {
     "name": "stdout",
     "output_type": "stream",
     "text": [
      "30\n"
     ]
    }
   ],
   "source": [
    "import glob\n",
    "files=glob.glob('C:\\\\Users\\\\sarathbabu.karunanit\\\\Downloads\\\\Resume\\\\Yet to Screen Profiles\\\\*.pdf')\n",
    "print(len(files))"
   ]
  },
  {
   "cell_type": "code",
   "execution_count": 4,
   "metadata": {},
   "outputs": [],
   "source": [
    "#import textract\n",
    "import re\n",
    "import string\n",
    "import pandas as pd\n",
    "import matplotlib.pyplot as plt\n",
    "%matplotlib inline"
   ]
  },
  {
   "cell_type": "code",
   "execution_count": 5,
   "metadata": {},
   "outputs": [],
   "source": [
    "def resume_extraction(file):\n",
    "    file_name=file.split('\\\\')\n",
    "    file_name=file_name[-1]\n",
    "    file_name\n",
    "\n",
    "    text=convert_pdf_to_txt(file)\n",
    "    len(text)\n",
    "\n",
    "    number=re.findall(r'[0-9]+', text)\n",
    "    ph_number=[i for i in number if len(i)==10]\n",
    "    if len(ph_number)>0:\n",
    "        ph_number=ph_number[0]\n",
    "    else:\n",
    "        ph_number=''\n",
    "    ph_number\n",
    "    \n",
    "    #----------------Landline Numbers-----------------#\n",
    "    if ph_number=='':\n",
    "        ph_number=[i for i in number if len(i)==11]\n",
    "        if len(ph_number)>0:\n",
    "            ph_number=ph_number[0]\n",
    "            if ph_number[:1]=='0':\n",
    "                ph_number=ph_number[-10:]\n",
    "        else:\n",
    "            ph_number=''\n",
    "    \n",
    "    #---------------Numbers prefixed with +91--------#\n",
    "    if ph_number=='':\n",
    "        ph_number=[i for i in number if len(i)==12]\n",
    "        if len(ph_number)>0:\n",
    "            ph_number=ph_number[0]\n",
    "            if ph_number[:2]=='91':\n",
    "                ph_number=ph_number[-10:]\n",
    "        else:\n",
    "            ph_number=''\n",
    "    ph_number\n",
    "\n",
    "    if ph_number=='':\n",
    "        for i in range(len(number)-1):\n",
    "            if number[i][0]=='9' or number[i][0]=='8' or number[i][0]=='7' or number[i][0]=='6':\n",
    "                if len(number[i])+len(number[i+1])==10:\n",
    "                    ph_number=number[i]+number[i+1]\n",
    "                    break\n",
    "    ph_number\n",
    "\n",
    "    #print(number)\n",
    "    if ph_number=='':\n",
    "        for i in range(len(number)-2):\n",
    "            if number[i][0]=='9' or number[i][0]=='8' or number[i][0]=='7' or number[i][0]=='6':\n",
    "                if len(number[i])+len(number[i+1])+len(number[i+2])==10:\n",
    "                    ph_number=number[i]+number[i+1]+number[i+2]\n",
    "                    break\n",
    "    ph_number\n",
    "\n",
    "    \n",
    "    stopwords=pd.read_csv('stopwords.csv')\n",
    "    stop_words=set(stopwords['stopwords'].values)\n",
    "\n",
    "    # Convert all strings to lowercase\n",
    "    text = text.lower()\n",
    "\n",
    "    # Remove numbers\n",
    "    text = re.sub('[^a-z0-9@.+]',' ',text)\n",
    "\n",
    "    text=' '.join([i for i in text.split(' ') if i not in stop_words])\n",
    "\n",
    "    def years_of_experience(string):\n",
    "        exp=[]\n",
    "        exp_index=text.find(string)\n",
    "        for i in range(exp_index):\n",
    "            if text[exp_index-i-1]==\" \":\n",
    "                 break\n",
    "            exp.append(text[exp_index-i-1])\n",
    "        exp=exp[::-1]\n",
    "        exp=''.join(exp)\n",
    "        return exp\n",
    "\n",
    "    def experience_of_years(string):\n",
    "        exp=[]\n",
    "        exp_index=text.find(string)\n",
    "        exp_index=exp_index+len(string)\n",
    "        for i in range(exp_index,exp_index+25):\n",
    "            if text[i]==\" \":\n",
    "                break\n",
    "            exp.append(text[i])\n",
    "        exp=''.join(exp)\n",
    "        return exp\n",
    "\n",
    "    #print(text.find('yrs'))\n",
    "    text=re.sub('yrs','years',text)\n",
    "    text=re.sub('experienced','',text)\n",
    "    #text=re.sub('of','',text)\n",
    "\n",
    "    yoe=['years',' years','  years','    years']\n",
    "    eoy=['experience','experience ','experience  ','experience   ']\n",
    "\n",
    "    if text.find('years')<text.find('experience'):\n",
    "        #print('years')\n",
    "        exp_list=list(filter(None,map(years_of_experience,yoe)))\n",
    "    else:\n",
    "        #print('experience')\n",
    "        exp_list=list(filter(None,map(experience_of_years,eoy)))\n",
    "    if len(exp_list)>0:\n",
    "        exp=exp_list[0]\n",
    "    else:\n",
    "        exp=''\n",
    "    \n",
    "    exp=re.sub('[^0-9+.]','',exp)\n",
    "\n",
    "    email=[]\n",
    "    com=[]\n",
    "    email_index=text.find('@')\n",
    "\n",
    "    for i in range(email_index):\n",
    "        if text[email_index-i-1]==\" \":\n",
    "             break\n",
    "        email.append(text[email_index-i-1])\n",
    "\n",
    "    for i in range(email_index,email_index+25):\n",
    "        if text[i+1]==\" \":\n",
    "            break\n",
    "        com.append(text[i+1])\n",
    "\n",
    "    email=''.join(email)\n",
    "    email=email[::-1]\n",
    "    com=''.join(com)\n",
    "    email_address=email+'@'+com\n",
    "    email_address\n",
    "\n",
    "    name=re.sub('[^a-z]','',email)\n",
    "    name\n",
    "\n",
    "    cols=['Resume','Name','Email','Phone','Years of Experience']\n",
    "    values=[file_name,name,email_address,ph_number,exp]\n",
    "    df_personal=pd.DataFrame([values],columns=cols)\n",
    "    df_personal\n",
    "\n",
    "    #df_skills=pd.read_csv('resume_skills.csv')\n",
    "    df_skills=pd.read_excel('resume_skills.xlsx')\n",
    "    df_skills=df_skills.where(df_skills.notnull(),None)\n",
    "    df_skills=df_skills.transpose()\n",
    "\n",
    "    skills_list=df_skills.values.tolist()\n",
    "    skills_desc=df_skills.index\n",
    "\n",
    "    skills_list=[list(filter(None,i)) for i in skills_list]\n",
    "\n",
    "    def skills(*args):\n",
    "        x=args[0]\n",
    "        y=args[1]\n",
    "        x=[i for i in x if i in text]\n",
    "        df=pd.DataFrame(zip([x]),columns=[y])\n",
    "        df[y]=df[y].apply(lambda z:','.join(z))\n",
    "        return df\n",
    "    df_skills=pd.concat(map(skills,skills_list,skills_desc),axis=1)\n",
    "    df_skills\n",
    "\n",
    "    df=pd.concat([df_personal,df_skills],axis=1)\n",
    "    \n",
    "    df['Shortlisted(Yes/No)']=''\n",
    "    cols=list(df.columns.values)\n",
    "    cols.remove('Resume')\n",
    "    cols.append('Resume')\n",
    "    \n",
    "    df=df[cols]\n",
    "    \n",
    "    return df\n"
   ]
  },
  {
   "cell_type": "code",
   "execution_count": 6,
   "metadata": {},
   "outputs": [
    {
     "data": {
      "text/plain": [
       "30"
      ]
     },
     "execution_count": 6,
     "metadata": {},
     "output_type": "execute_result"
    }
   ],
   "source": [
    "len(files)"
   ]
  },
  {
   "cell_type": "code",
   "execution_count": 7,
   "metadata": {},
   "outputs": [
    {
     "data": {
      "text/plain": [
       "'C:\\\\Users\\\\sarathbabu.karunanit\\\\Downloads\\\\Resume\\\\Yet to Screen Profiles\\\\f1503912531Dot9665.pdf'"
      ]
     },
     "execution_count": 7,
     "metadata": {},
     "output_type": "execute_result"
    }
   ],
   "source": [
    "file=files[5]\n",
    "file"
   ]
  },
  {
   "cell_type": "code",
   "execution_count": 8,
   "metadata": {},
   "outputs": [],
   "source": [
    "from time import time"
   ]
  },
  {
   "cell_type": "code",
   "execution_count": 9,
   "metadata": {},
   "outputs": [
    {
     "data": {
      "text/plain": [
       "54.804319620132446"
      ]
     },
     "execution_count": 9,
     "metadata": {},
     "output_type": "execute_result"
    }
   ],
   "source": [
    "start=time()\n",
    "df=pd.concat(map(resume_extraction,files))\n",
    "df.to_excel('Resume_to_be_shortlisted.xlsx',index=False)\n",
    "end=time()\n",
    "end-start"
   ]
  },
  {
   "cell_type": "code",
   "execution_count": null,
   "metadata": {},
   "outputs": [],
   "source": [
    "resume_extraction(file)"
   ]
  },
  {
   "cell_type": "code",
   "execution_count": null,
   "metadata": {},
   "outputs": [],
   "source": []
  }
 ],
 "metadata": {
  "kernelspec": {
   "display_name": "Python 3 (ipykernel)",
   "language": "python",
   "name": "python3"
  },
  "language_info": {
   "codemirror_mode": {
    "name": "ipython",
    "version": 3
   },
   "file_extension": ".py",
   "mimetype": "text/x-python",
   "name": "python",
   "nbconvert_exporter": "python",
   "pygments_lexer": "ipython3",
   "version": "3.10.9"
  }
 },
 "nbformat": 4,
 "nbformat_minor": 4
}
